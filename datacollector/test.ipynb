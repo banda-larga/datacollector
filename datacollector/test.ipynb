{
 "cells": [
  {
   "cell_type": "code",
   "execution_count": 2,
   "metadata": {},
   "outputs": [
    {
     "name": "stdout",
     "output_type": "stream",
     "text": [
      "\u001b[33mWARNING: You are using pip version 21.3; however, version 23.1.2 is available.\n",
      "You should consider upgrading via the '/Users/Edo/anaconda3/bin/python -m pip install --upgrade pip' command.\u001b[0m\n"
     ]
    }
   ],
   "source": [
    "!pip install -q openai"
   ]
  },
  {
   "cell_type": "code",
   "execution_count": 1,
   "metadata": {},
   "outputs": [
    {
     "ename": "ValidationError",
     "evalue": "4 validation errors for CollectorArgs\ntask\n  field required (type=value_error.missing)\ndataset\n  field required (type=value_error.missing)\nmodel\n  field required (type=value_error.missing)\nlanguage\n  field required (type=value_error.missing)",
     "output_type": "error",
     "traceback": [
      "\u001b[0;31m---------------------------------------------------------------------------\u001b[0m",
      "\u001b[0;31mValidationError\u001b[0m                           Traceback (most recent call last)",
      "\u001b[0;32m<ipython-input-1-60dfb1ef9fa3>\u001b[0m in \u001b[0;36m<module>\u001b[0;34m\u001b[0m\n\u001b[1;32m      1\u001b[0m \u001b[0;32mfrom\u001b[0m \u001b[0mtask\u001b[0m \u001b[0;32mimport\u001b[0m \u001b[0mTask\u001b[0m\u001b[0;34m\u001b[0m\u001b[0;34m\u001b[0m\u001b[0m\n\u001b[1;32m      2\u001b[0m \u001b[0;32mfrom\u001b[0m \u001b[0mfunctions\u001b[0m\u001b[0;34m.\u001b[0m\u001b[0mclassifier\u001b[0m \u001b[0;32mimport\u001b[0m \u001b[0mClassifier\u001b[0m\u001b[0;34m\u001b[0m\u001b[0;34m\u001b[0m\u001b[0m\n\u001b[0;32m----> 3\u001b[0;31m \u001b[0;32mfrom\u001b[0m \u001b[0mcollector\u001b[0m \u001b[0;32mimport\u001b[0m \u001b[0mCollector\u001b[0m\u001b[0;34m,\u001b[0m \u001b[0mCollectorArgs\u001b[0m\u001b[0;34m\u001b[0m\u001b[0;34m\u001b[0m\u001b[0m\n\u001b[0m\u001b[1;32m      4\u001b[0m \u001b[0;34m\u001b[0m\u001b[0m\n\u001b[1;32m      5\u001b[0m function = Classifier(\n",
      "\u001b[0;32m~/Documents/data_collector/datacollector/datacollector/datacollector/collector.py\u001b[0m in \u001b[0;36m<module>\u001b[0;34m\u001b[0m\n\u001b[1;32m    110\u001b[0m \u001b[0;34m\u001b[0m\u001b[0m\n\u001b[1;32m    111\u001b[0m \u001b[0;34m\u001b[0m\u001b[0m\n\u001b[0;32m--> 112\u001b[0;31m \u001b[0;32mclass\u001b[0m \u001b[0mCollector\u001b[0m\u001b[0;34m(\u001b[0m\u001b[0mBaseModel\u001b[0m\u001b[0;34m)\u001b[0m\u001b[0;34m:\u001b[0m\u001b[0;34m\u001b[0m\u001b[0;34m\u001b[0m\u001b[0m\n\u001b[0m\u001b[1;32m    113\u001b[0m     def __init__(\n\u001b[1;32m    114\u001b[0m         \u001b[0mself\u001b[0m\u001b[0;34m,\u001b[0m\u001b[0;34m\u001b[0m\u001b[0;34m\u001b[0m\u001b[0m\n",
      "\u001b[0;32m~/Documents/data_collector/datacollector/datacollector/datacollector/collector.py\u001b[0m in \u001b[0;36mCollector\u001b[0;34m()\u001b[0m\n\u001b[1;32m    115\u001b[0m         \u001b[0mdataset\u001b[0m\u001b[0;34m:\u001b[0m \u001b[0mUnion\u001b[0m\u001b[0;34m[\u001b[0m\u001b[0mstr\u001b[0m\u001b[0;34m,\u001b[0m \u001b[0mPath\u001b[0m\u001b[0;34m]\u001b[0m\u001b[0;34m,\u001b[0m\u001b[0;34m\u001b[0m\u001b[0;34m\u001b[0m\u001b[0m\n\u001b[1;32m    116\u001b[0m         \u001b[0moutput_columns\u001b[0m\u001b[0;34m:\u001b[0m \u001b[0mList\u001b[0m\u001b[0;34m[\u001b[0m\u001b[0mstr\u001b[0m\u001b[0;34m]\u001b[0m \u001b[0;34m=\u001b[0m \u001b[0;34m[\u001b[0m\u001b[0;34m\"output\"\u001b[0m\u001b[0;34m]\u001b[0m\u001b[0;34m,\u001b[0m\u001b[0;34m\u001b[0m\u001b[0;34m\u001b[0m\u001b[0m\n\u001b[0;32m--> 117\u001b[0;31m         \u001b[0margs\u001b[0m\u001b[0;34m:\u001b[0m \u001b[0mCollectorArgs\u001b[0m \u001b[0;34m=\u001b[0m \u001b[0mCollectorArgs\u001b[0m\u001b[0;34m(\u001b[0m\u001b[0;34m)\u001b[0m\u001b[0;34m,\u001b[0m\u001b[0;34m\u001b[0m\u001b[0;34m\u001b[0m\u001b[0m\n\u001b[0m\u001b[1;32m    118\u001b[0m     ):\n\u001b[1;32m    119\u001b[0m         \u001b[0mself\u001b[0m\u001b[0;34m.\u001b[0m\u001b[0margs\u001b[0m \u001b[0;34m=\u001b[0m \u001b[0margs\u001b[0m\u001b[0;34m\u001b[0m\u001b[0;34m\u001b[0m\u001b[0m\n",
      "\u001b[0;32m~/anaconda3/envs/magdalene/lib/python3.8/site-packages/pydantic/main.cpython-38-darwin.so\u001b[0m in \u001b[0;36mpydantic.main.BaseModel.__init__\u001b[0;34m()\u001b[0m\n",
      "\u001b[0;31mValidationError\u001b[0m: 4 validation errors for CollectorArgs\ntask\n  field required (type=value_error.missing)\ndataset\n  field required (type=value_error.missing)\nmodel\n  field required (type=value_error.missing)\nlanguage\n  field required (type=value_error.missing)"
     ]
    }
   ],
   "source": [
    "from task import Task\n",
    "from functions.classifier import Classifier\n",
    "from collector import Collector, CollectorArgs\n",
    "\n",
    "function = Classifier(\n",
    "    name=\"print_sentiment\",\n",
    "    description=\"A function that prints the given sentiment.\",\n",
    "    output=\"sentiment\",\n",
    "    output_description=\"The sentiment.\",\n",
    "    labels=[\n",
    "        \"positive\",\n",
    "        \"negative\",\n",
    "        \"neutral\",\n",
    "    ],\n",
    ")\n",
    "\n",
    "task = Task(\n",
    "    function = function,\n",
    "    inputs = [\"text\"],\n",
    "    outputs = [\"sentiment\"],\n",
    "    system = \"You are an incredible sentiment classifier.\",\n",
    "    language = \"en\",\n",
    "    prompt = \"Classify the following text:\\n{text}\",\n",
    ")\n",
    "\n",
    "args = CollectorArgs(\n",
    "    task=task,\n",
    "    dataset=\"xsum\",\n",
    "    model=\"gpt-3.5-turbo-0613\",\n",
    "    language=\"it\",\n",
    "    max_items=1000,\n",
    "    batch_size=10,\n",
    "    output_dir=\"output\",\n",
    "    save_every=100,\n",
    "    push_to_hub=True,\n",
    ")\n",
    "\n",
    "collector = Collector(args)\n",
    "collector.run()"
   ]
  }
 ],
 "metadata": {
  "kernelspec": {
   "display_name": "magdalene",
   "language": "python",
   "name": "python3"
  },
  "language_info": {
   "codemirror_mode": {
    "name": "ipython",
    "version": 3
   },
   "file_extension": ".py",
   "mimetype": "text/x-python",
   "name": "python",
   "nbconvert_exporter": "python",
   "pygments_lexer": "ipython3",
   "version": "3.8.8"
  },
  "orig_nbformat": 4
 },
 "nbformat": 4,
 "nbformat_minor": 2
}
